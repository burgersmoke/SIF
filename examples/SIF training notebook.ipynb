{
 "cells": [
  {
   "cell_type": "markdown",
   "metadata": {},
   "source": [
    "# The Purpose of this notebook is to train Smooth Inverse Frequency (SIF) embeddings but in a notebook so that long-loading tasks like loading embeddings or training models can be simplified so that we may be able to wrap this into a class and serialize it"
   ]
  },
  {
   "cell_type": "code",
   "execution_count": 5,
   "metadata": {},
   "outputs": [
    {
     "name": "stdout",
     "output_type": "stream",
     "text": [
      "Spacy version : 2.0.18\n"
     ]
    }
   ],
   "source": [
    "import os\n",
    "import sys\n",
    "\n",
    "import pickle\n",
    "\n",
    "import pandas as pd\n",
    "\n",
    "import numpy as np\n",
    "\n",
    "from sklearn.decomposition import TruncatedSVD\n",
    "from sklearn.externals import joblib\n",
    "\n",
    "import spacy\n",
    "print('Spacy version : {}'.format(spacy.__version__))"
   ]
  },
  {
   "cell_type": "code",
   "execution_count": 6,
   "metadata": {},
   "outputs": [],
   "source": [
    "sys.path.append('../src')\n",
    "import data_io, params, SIF_embedding\n",
    "from SIF_embedding import get_weighted_average"
   ]
  },
  {
   "cell_type": "code",
   "execution_count": 7,
   "metadata": {},
   "outputs": [],
   "source": [
    "# input\n",
    "wordfile = '../data/glove.840B.300d.txt' # word vector file, can be downloaded from GloVe website\n",
    "weightfile = '../auxiliary_data/enwiki_vocab_min200.txt' # each line is a word and its frequency\n",
    "weightpara = 1e-3 # the parameter in the SIF weighting scheme, usually in the range [3e-5, 3e-3]\n",
    "rmpc = 1 # number of principal components to remove in SIF weighting scheme\n",
    "sentences = ['this is an example sentence', 'this is another sentence that is slightly longer']"
   ]
  },
  {
   "cell_type": "code",
   "execution_count": 8,
   "metadata": {},
   "outputs": [
    {
     "name": "stdout",
     "output_type": "stream",
     "text": [
      "Loading Glove Model\n",
      "Current line count : 0\n",
      "Current line count : 10000\n",
      "Current line count : 20000\n",
      "Current line count : 30000\n",
      "Current line count : 40000\n",
      "Current line count : 50000\n",
      "Current line count : 60000\n",
      "Current line count : 70000\n",
      "Current line count : 80000\n",
      "Current line count : 90000\n",
      "Current line count : 100000\n",
      "Current line count : 110000\n",
      "Current line count : 120000\n",
      "Current line count : 130000\n",
      "Current line count : 140000\n",
      "Current line count : 150000\n",
      "Current line count : 160000\n",
      "Current line count : 170000\n",
      "Current line count : 180000\n",
      "Current line count : 190000\n",
      "Current line count : 200000\n",
      "Current line count : 210000\n",
      "Current line count : 220000\n",
      "Current line count : 230000\n",
      "Current line count : 240000\n",
      "Current line count : 250000\n",
      "Current line count : 260000\n",
      "Current line count : 270000\n",
      "Current line count : 280000\n",
      "Current line count : 290000\n",
      "Current line count : 300000\n",
      "Current line count : 310000\n",
      "Current line count : 320000\n",
      "Current line count : 330000\n",
      "Current line count : 340000\n",
      "Current line count : 350000\n",
      "Current line count : 360000\n",
      "Current line count : 370000\n",
      "Current line count : 380000\n",
      "Current line count : 390000\n",
      "Current line count : 400000\n",
      "Current line count : 410000\n",
      "Current line count : 420000\n",
      "Current line count : 430000\n",
      "Current line count : 440000\n",
      "Current line count : 450000\n",
      "Current line count : 460000\n",
      "Current line count : 470000\n",
      "Current line count : 480000\n",
      "Current line count : 490000\n",
      "Current line count : 500000\n",
      "Current line count : 510000\n",
      "Current line count : 520000\n",
      "Current line count : 530000\n",
      "Current line count : 540000\n",
      "Current line count : 550000\n",
      "Current line count : 560000\n",
      "Current line count : 570000\n",
      "Current line count : 580000\n",
      "Current line count : 590000\n",
      "Current line count : 600000\n",
      "Current line count : 610000\n",
      "Current line count : 620000\n",
      "Current line count : 630000\n",
      "Current line count : 640000\n",
      "Current line count : 650000\n",
      "Current line count : 660000\n",
      "Current line count : 670000\n",
      "Current line count : 680000\n",
      "Current line count : 690000\n",
      "Current line count : 700000\n",
      "Current line count : 710000\n",
      "Current line count : 720000\n",
      "Current line count : 730000\n",
      "Current line count : 740000\n",
      "Current line count : 750000\n",
      "Current line count : 760000\n",
      "Current line count : 770000\n",
      "Current line count : 780000\n",
      "Current line count : 790000\n",
      "Current line count : 800000\n",
      "Current line count : 810000\n",
      "Current line count : 820000\n",
      "Current line count : 830000\n",
      "Current line count : 840000\n",
      "Current line count : 850000\n",
      "Current line count : 860000\n",
      "Current line count : 870000\n",
      "Current line count : 880000\n",
      "Current line count : 890000\n",
      "Current line count : 900000\n",
      "Current line count : 910000\n",
      "Current line count : 920000\n",
      "Current line count : 930000\n",
      "Current line count : 940000\n",
      "Current line count : 950000\n",
      "Current line count : 960000\n",
      "Current line count : 970000\n",
      "Current line count : 980000\n",
      "Current line count : 990000\n",
      "Current line count : 1000000\n",
      "Current line count : 1010000\n",
      "Current line count : 1020000\n",
      "Current line count : 1030000\n",
      "Current line count : 1040000\n",
      "Current line count : 1050000\n",
      "Current line count : 1060000\n",
      "Current line count : 1070000\n",
      "Current line count : 1080000\n",
      "Current line count : 1090000\n",
      "Current line count : 1100000\n",
      "Current line count : 1110000\n",
      "Current line count : 1120000\n",
      "Current line count : 1130000\n",
      "Current line count : 1140000\n",
      "Current line count : 1150000\n",
      "Current line count : 1160000\n",
      "Current line count : 1170000\n",
      "Current line count : 1180000\n",
      "Current line count : 1190000\n",
      "Current line count : 1200000\n",
      "Current line count : 1210000\n",
      "Current line count : 1220000\n",
      "Current line count : 1230000\n",
      "Current line count : 1240000\n",
      "Current line count : 1250000\n",
      "Current line count : 1260000\n",
      "Current line count : 1270000\n",
      "Current line count : 1280000\n",
      "Current line count : 1290000\n",
      "Current line count : 1300000\n",
      "Current line count : 1310000\n",
      "Current line count : 1320000\n",
      "Current line count : 1330000\n",
      "Current line count : 1340000\n",
      "Current line count : 1350000\n",
      "Current line count : 1360000\n",
      "Current line count : 1370000\n",
      "Current line count : 1380000\n",
      "Current line count : 1390000\n",
      "Current line count : 1400000\n",
      "Current line count : 1410000\n",
      "Current line count : 1420000\n",
      "Current line count : 1430000\n",
      "Current line count : 1440000\n",
      "Current line count : 1450000\n",
      "Current line count : 1460000\n",
      "Current line count : 1470000\n",
      "Current line count : 1480000\n",
      "Current line count : 1490000\n",
      "Current line count : 1500000\n",
      "Current line count : 1510000\n",
      "Current line count : 1520000\n",
      "Current line count : 1530000\n",
      "Current line count : 1540000\n",
      "Current line count : 1550000\n",
      "Current line count : 1560000\n",
      "Current line count : 1570000\n",
      "Current line count : 1580000\n",
      "Current line count : 1590000\n",
      "Current line count : 1600000\n",
      "Current line count : 1610000\n",
      "Current line count : 1620000\n",
      "Current line count : 1630000\n",
      "Current line count : 1640000\n",
      "Current line count : 1650000\n",
      "Current line count : 1660000\n",
      "Current line count : 1670000\n",
      "Current line count : 1680000\n",
      "Current line count : 1690000\n",
      "Current line count : 1700000\n",
      "Current line count : 1710000\n",
      "Current line count : 1720000\n",
      "Current line count : 1730000\n",
      "Current line count : 1740000\n",
      "Current line count : 1750000\n",
      "Current line count : 1760000\n",
      "Current line count : 1770000\n",
      "Current line count : 1780000\n",
      "Current line count : 1790000\n",
      "Current line count : 1800000\n",
      "Current line count : 1810000\n",
      "Current line count : 1820000\n",
      "Current line count : 1830000\n",
      "Current line count : 1840000\n",
      "Current line count : 1850000\n",
      "Current line count : 1860000\n",
      "Current line count : 1870000\n",
      "Current line count : 1880000\n",
      "Current line count : 1890000\n",
      "Current line count : 1900000\n",
      "Current line count : 1910000\n",
      "Current line count : 1920000\n",
      "Current line count : 1930000\n",
      "Current line count : 1940000\n",
      "Current line count : 1950000\n",
      "Current line count : 1960000\n",
      "Current line count : 1970000\n",
      "Current line count : 1980000\n",
      "Current line count : 1990000\n",
      "Current line count : 2000000\n",
      "Current line count : 2010000\n",
      "Current line count : 2020000\n",
      "Current line count : 2030000\n",
      "Current line count : 2040000\n",
      "Current line count : 2050000\n",
      "Current line count : 2060000\n",
      "Current line count : 2070000\n",
      "Current line count : 2080000\n",
      "Current line count : 2090000\n",
      "Current line count : 2100000\n",
      "Current line count : 2110000\n",
      "Current line count : 2120000\n",
      "Current line count : 2130000\n",
      "Current line count : 2140000\n",
      "Current line count : 2150000\n",
      "Current line count : 2160000\n",
      "Current line count : 2170000\n",
      "Current line count : 2180000\n",
      "Current line count : 2190000\n",
      "Done.\n",
      "2195895 words loaded!\n"
     ]
    }
   ],
   "source": [
    "# load word vectors\n",
    "#(words, We) = data_io.getWordmap(wordfile)\n",
    "(words, We) = data_io.load_glove_word_map(wordfile)"
   ]
  },
  {
   "cell_type": "code",
   "execution_count": 9,
   "metadata": {},
   "outputs": [],
   "source": [
    "# load word weights\n",
    "word2weight = data_io.getWordWeight(weightfile, weightpara) # word2weight['str'] is the weight for the word 'str'\n",
    "weight4ind = data_io.getWeight(words, word2weight) # weight4ind[i] is the weight for the i-th word"
   ]
  },
  {
   "cell_type": "code",
   "execution_count": 10,
   "metadata": {},
   "outputs": [],
   "source": [
    "# load sentences\n",
    "x, m = data_io.sentences2idx(sentences, words) # x is the array of word indices, m is the binary mask indicating whether there is a word in that location\n",
    "w = data_io.seq2weight(x, m, weight4ind) # get word weights"
   ]
  },
  {
   "cell_type": "code",
   "execution_count": 11,
   "metadata": {},
   "outputs": [],
   "source": [
    "# set parameters\n",
    "sif_params = params.params()\n",
    "sif_params.rmpc = rmpc\n",
    "# get SIF embedding\n",
    "embedding = SIF_embedding.SIF_embedding(We, x, w, sif_params) # embedding[i,:] is the embedding for sentence i"
   ]
  },
  {
   "cell_type": "code",
   "execution_count": 12,
   "metadata": {},
   "outputs": [
    {
     "name": "stdout",
     "output_type": "stream",
     "text": [
      "(2, 300)\n"
     ]
    }
   ],
   "source": [
    "print(embedding.shape)"
   ]
  },
  {
   "cell_type": "code",
   "execution_count": 13,
   "metadata": {},
   "outputs": [
    {
     "name": "stdout",
     "output_type": "stream",
     "text": [
      "[[-0.02397412  0.04764011  0.01670638 -0.01021727 -0.00139526  0.05780546\n",
      "   0.02932482  0.02521947 -0.00411831 -0.0497154  -0.01200984  0.02978773\n",
      "   0.02579444  0.0648637  -0.01721727  0.0088077  -0.00324565 -0.00423109\n",
      "   0.02092886 -0.0288103   0.01772368  0.00952553  0.01083998  0.03672469\n",
      "   0.02482178 -0.01848137  0.01709322 -0.0010324  -0.01724248  0.02142519\n",
      "   0.06448491  0.01068625  0.04189265  0.06044579  0.01613084 -0.03517724\n",
      "   0.04446857 -0.0635548  -0.04702112  0.001705   -0.02767853 -0.03828304\n",
      "  -0.00997419 -0.05627686 -0.0539105  -0.03421345 -0.0210843   0.04780176\n",
      "   0.06440688 -0.00873629 -0.03890336  0.06306987  0.02305344  0.04054183\n",
      "   0.01818783 -0.0345772  -0.00531466  0.03098978 -0.04894507  0.03326195\n",
      "  -0.01061555  0.02434095 -0.01672525  0.0040396  -0.00448458  0.01285247\n",
      "  -0.00156122  0.02135667 -0.03233538  0.01347072 -0.05490188 -0.03487819\n",
      "  -0.03027378 -0.04119349 -0.00896852 -0.03933423 -0.02704299 -0.00429622\n",
      "  -0.02346152  0.00888304 -0.00354414  0.00760578  0.04981251 -0.02358116\n",
      "   0.03376623  0.01988129 -0.07750311 -0.0709963  -0.0784511   0.00536404\n",
      "  -0.01925919  0.0023234   0.03074004 -0.01451074  0.03479985 -0.00774034\n",
      "  -0.03741347 -0.00688559  0.05018663  0.00101526 -0.00564326  0.01540205\n",
      "   0.04906143 -0.00589139  0.01474348  0.02690827 -0.01000106  0.0124001\n",
      "  -0.00618215 -0.00725431 -0.03602911  0.03239946 -0.00907028 -0.01932247\n",
      "  -0.041015    0.01387819 -0.02661746  0.04625961 -0.04062361  0.01270894\n",
      "  -0.03347692 -0.04456665 -0.03631964 -0.03221343 -0.00432169 -0.00850245\n",
      "  -0.03075047 -0.0031582   0.04801058  0.00288624  0.06411366  0.0109198\n",
      "   0.05213902 -0.0720126   0.00721216  0.04768287  0.03043668 -0.00372493\n",
      "   0.06479574 -0.00540652  0.10834632 -0.03096399  0.01912011 -0.00022152\n",
      "  -0.02831285  0.00300934 -0.00053281 -0.03228008  0.00606722 -0.02003068\n",
      "   0.0066131  -0.00491478 -0.06299774 -0.02241882  0.02976715  0.02736801\n",
      "   0.04228382 -0.04528012  0.01535454  0.00017419 -0.01380954 -0.00694555\n",
      "  -0.01600868  0.02148104 -0.02001686 -0.00148547  0.00491472 -0.00781709\n",
      "   0.00647158  0.05617205 -0.04927928 -0.04311772  0.0497606   0.00574265\n",
      "   0.02757854  0.00563987 -0.01370634  0.03116857 -0.03357597 -0.01317391\n",
      "  -0.02731744  0.04118566  0.02867129  0.00178926 -0.04587599 -0.00793344\n",
      "  -0.03861587  0.02533809 -0.03294319 -0.03751818 -0.04328352 -0.00535835\n",
      "   0.00315924 -0.03479316  0.01709226  0.02785528 -0.02167485 -0.03829494\n",
      "   0.03783312 -0.02796242  0.01485888 -0.05228103  0.054726    0.04175459\n",
      "   0.02439816 -0.05613881  0.03774838  0.05808393  0.01082532 -0.00077917\n",
      "   0.03319936  0.05905247 -0.00476314  0.03556807 -0.01065794 -0.02491585\n",
      "  -0.01398839  0.03019218 -0.04512673  0.00999796 -0.00125729 -0.01603569\n",
      "   0.00713493  0.05037378 -0.00792674  0.01112678  0.02646765  0.02998835\n",
      "   0.00908352 -0.02578241 -0.0286508   0.00106392 -0.07045113 -0.03883218\n",
      "  -0.10457476  0.0099952   0.03757472  0.04962217  0.00892553  0.01866166\n",
      "   0.00954436 -0.0027969   0.06868278 -0.03136182  0.05604732  0.01086756\n",
      "   0.07029734  0.01815527 -0.01494502 -0.06091344  0.02665535  0.08528604\n",
      "   0.02754015  0.00956602 -0.01159319 -0.04141837  0.00177178 -0.0125265\n",
      "   0.03215333 -0.04991344  0.02008942 -0.01068587 -0.00924204  0.01670693\n",
      "  -0.03486959  0.01340672  0.0127377  -0.00676026  0.12638611 -0.03945344\n",
      "  -0.07480161 -0.02235661  0.00283693  0.09050225 -0.00781764 -0.02238343\n",
      "  -0.01584556  0.01317705  0.03509691 -0.04596314 -0.01946875 -0.00109155\n",
      "   0.00246961 -0.02319282  0.00150569 -0.03807358  0.02718248  0.03425634\n",
      "   0.0144432  -0.02497074  0.06007709  0.01964205 -0.04113437  0.04273904\n",
      "  -0.03152172 -0.02252872  0.01082307  0.0287284  -0.02245046  0.00960976]\n",
      " [ 0.02285905 -0.04542429 -0.01592934  0.00974205  0.00133036 -0.05511684\n",
      "  -0.02796087 -0.02404647  0.00392676  0.04740306  0.01145124 -0.02840225\n",
      "  -0.0245947  -0.06184679  0.01641646 -0.00839804  0.00309469  0.00403429\n",
      "  -0.01995543  0.02747028 -0.01689932 -0.00908248 -0.0103358  -0.03501657\n",
      "  -0.02366728  0.01762177 -0.01629818  0.00098438  0.0164405  -0.02042867\n",
      "  -0.06148561 -0.01018921 -0.03994416 -0.05763436 -0.01538057  0.03354108\n",
      "  -0.04240026  0.06059877  0.04483409 -0.00162569  0.02639116  0.03650243\n",
      "   0.00951027  0.05365933  0.05140303  0.03262213  0.02010363 -0.04557842\n",
      "  -0.06141121  0.00832995  0.03709391 -0.06013639 -0.02198118 -0.03865617\n",
      "  -0.01734188  0.03296895  0.00506746 -0.02954839  0.04666855 -0.03171489\n",
      "   0.0101218  -0.02320882  0.01594733 -0.00385171  0.00427599 -0.01225468\n",
      "   0.00148861 -0.02036334  0.03083141 -0.01284418  0.0523483   0.03325595\n",
      "   0.0288657   0.03927751  0.00855138  0.03750473  0.02578518  0.00409639\n",
      "   0.02237029 -0.00846988  0.00337929 -0.00725203 -0.04749565  0.02248436\n",
      "  -0.03219571 -0.01895658  0.07389832  0.06769415  0.07480221 -0.00511455\n",
      "   0.01836341 -0.00221533 -0.02931027  0.01383582 -0.03318125  0.00738033\n",
      "   0.03567331  0.00656533 -0.04785237 -0.00096804  0.00538078 -0.01468567\n",
      "  -0.04677951  0.00561737 -0.01405774 -0.02565673  0.00953589 -0.01182335\n",
      "   0.0058946   0.0069169   0.03435334 -0.03089251  0.00864841  0.01842375\n",
      "   0.03910733 -0.0132327   0.02537944 -0.044108    0.03873414 -0.01211782\n",
      "   0.03191985  0.04249378  0.03463035  0.03071513  0.00412068  0.00810699\n",
      "   0.02932021  0.00301131 -0.04577753 -0.002752   -0.06113163 -0.0104119\n",
      "  -0.04971395  0.06866318 -0.00687671 -0.04546506 -0.02902102  0.00355167\n",
      "  -0.06178199  0.00515506 -0.10330696  0.02952381 -0.0182308   0.00021122\n",
      "   0.02699597 -0.00286937  0.00050803  0.03077868 -0.00578502  0.01909902\n",
      "  -0.00630552  0.00468618  0.06006761  0.02137609 -0.02838263 -0.02609508\n",
      "  -0.04031713  0.04317406 -0.01464038 -0.00016608  0.01316724  0.0066225\n",
      "   0.01526409 -0.02048192  0.01908585  0.00141638 -0.00468612  0.00745351\n",
      "  -0.00617058 -0.0535594   0.04698722  0.04111225 -0.04744615 -0.00547555\n",
      "  -0.02629582 -0.00537755  0.01306884 -0.02971887  0.0320143   0.01256117\n",
      "   0.02604686 -0.03927004 -0.02733774 -0.00170604  0.04374222  0.00756444\n",
      "   0.03681978 -0.02415957  0.03141095  0.03577315  0.04127033  0.00510913\n",
      "  -0.0030123   0.03317487 -0.01629728 -0.02655969  0.02066672  0.03651378\n",
      "  -0.03607344  0.02666184 -0.01416777  0.04984935 -0.0521806  -0.03981251\n",
      "  -0.02326336  0.0535277  -0.03599264 -0.05538235 -0.01032182  0.00074293\n",
      "  -0.03165521 -0.05630584  0.0045416  -0.03391374  0.01016223  0.02375698\n",
      "   0.01333777 -0.02878789  0.04302781 -0.00953293  0.00119881  0.01528985\n",
      "  -0.00680307 -0.04803081  0.00755806 -0.01060925 -0.0252366  -0.02859354\n",
      "  -0.00866103  0.02458323  0.0273182  -0.00101443  0.06717434  0.03702603\n",
      "   0.09971082 -0.00953031 -0.03582706 -0.04731417 -0.00851039 -0.01779368\n",
      "  -0.00910044  0.00266681 -0.06548823  0.02990313 -0.05344047 -0.01036209\n",
      "  -0.06702769 -0.01731083  0.0142499   0.05808026 -0.02541556 -0.08131925\n",
      "  -0.02625921 -0.00912109  0.01105397  0.03949194 -0.00168937  0.01194387\n",
      "  -0.03065782  0.04759188 -0.01915502  0.01018885  0.00881217 -0.01592986\n",
      "   0.03324774 -0.01278315 -0.01214525  0.00644583 -0.12050769  0.0376184\n",
      "   0.07132247  0.02131677 -0.00270498 -0.08629284  0.00745403  0.02134234\n",
      "   0.01510856 -0.01256417 -0.03346449  0.04382532  0.01856323  0.00104078\n",
      "  -0.00235474  0.02211409 -0.00143566  0.03630271 -0.02591818 -0.03266303\n",
      "  -0.01377143  0.02380931 -0.05728281 -0.01872847  0.03922114 -0.04075117\n",
      "   0.03005559  0.02148088 -0.01031967 -0.02739219  0.02140625 -0.00916279]]\n"
     ]
    }
   ],
   "source": [
    "print(embedding)"
   ]
  },
  {
   "cell_type": "markdown",
   "metadata": {},
   "source": [
    "# Now let's load some other sentences from a PICKLE"
   ]
  },
  {
   "cell_type": "code",
   "execution_count": 14,
   "metadata": {},
   "outputs": [
    {
     "name": "stdout",
     "output_type": "stream",
     "text": [
      "<class 'pandas.core.frame.DataFrame'>\n"
     ]
    }
   ],
   "source": [
    "MIMIC_PICKLE_PATH = '../data/MIMIC_DISCHARGE_SUMMARIES.pickle'\n",
    "#mimic_file = open(MIMIC_PICKLE_PATH, 'rb')\n",
    "#mimic_df = pickle.load(mimic_file)\n",
    "#mimic_file.close()\n",
    "\n",
    "mimic_df = pd.read_pickle(MIMIC_PICKLE_PATH)\n",
    "\n",
    "print(type(mimic_df))"
   ]
  },
  {
   "cell_type": "code",
   "execution_count": 15,
   "metadata": {},
   "outputs": [
    {
     "name": "stdout",
     "output_type": "stream",
     "text": [
      "55177\n"
     ]
    }
   ],
   "source": [
    "print(len(mimic_df))"
   ]
  },
  {
   "cell_type": "code",
   "execution_count": 16,
   "metadata": {},
   "outputs": [
    {
     "name": "stdout",
     "output_type": "stream",
     "text": [
      "   ROW_ID                                               TEXT\n",
      "0       1  Admission Date:  [**2823-9-29**]              ...\n",
      "1       2  Admission Date:  [**2830-3-12**]              ...\n",
      "2       3  Admission Date:  [**2714-3-12**]              ...\n",
      "3       4  Admission Date:  [**2678-10-4**]              ...\n",
      "4       5  Admission Date:  [**2936-5-6**]     Discharge ...\n"
     ]
    }
   ],
   "source": [
    "print(mimic_df.head())"
   ]
  },
  {
   "cell_type": "code",
   "execution_count": 17,
   "metadata": {},
   "outputs": [],
   "source": [
    "MAX_DOCUMENTS_FOR_TRAINING = 10000\n",
    "MAX_TOKENS_PER_SENTENCE = 30\n",
    "MIN_TOKENS_PER_SENTENCE = 8"
   ]
  },
  {
   "cell_type": "code",
   "execution_count": 18,
   "metadata": {},
   "outputs": [
    {
     "name": "stdout",
     "output_type": "stream",
     "text": [
      "Wall time: 1.86 s\n"
     ]
    }
   ],
   "source": [
    "%%time\n",
    "\n",
    "mimic_texts = mimic_df.TEXT.unique()[:MAX_DOCUMENTS_FOR_TRAINING]"
   ]
  },
  {
   "cell_type": "code",
   "execution_count": null,
   "metadata": {},
   "outputs": [],
   "source": [
    "print(len(mimic_texts))"
   ]
  },
  {
   "cell_type": "code",
   "execution_count": 19,
   "metadata": {},
   "outputs": [],
   "source": [
    "#print(mimic_texts[0])"
   ]
  },
  {
   "cell_type": "markdown",
   "metadata": {},
   "source": [
    "# Let's load spacy and get ready to tokenize for sentences"
   ]
  },
  {
   "cell_type": "code",
   "execution_count": 20,
   "metadata": {},
   "outputs": [],
   "source": [
    "nlp = spacy.load(\"en_core_web_sm\", disable=[\"tagger\"])"
   ]
  },
  {
   "cell_type": "code",
   "execution_count": 21,
   "metadata": {},
   "outputs": [
    {
     "name": "stdout",
     "output_type": "stream",
     "text": [
      "Wall time: 1h 13min 27s\n"
     ]
    }
   ],
   "source": [
    "%%time\n",
    "\n",
    "print('Processing and gathering sentences...')\n",
    "\n",
    "training_sentences = []\n",
    "for mimic_text in mimic_texts:\n",
    "    doc = nlp(mimic_text)\n",
    "    # loop through sentences\n",
    "    for sent in doc.sents:\n",
    "        \n",
    "        if len(sent) < MIN_TOKENS_PER_SENTENCE:\n",
    "            continue\n",
    "            \n",
    "        if len(sent) > MAX_TOKENS_PER_SENTENCE:\n",
    "            continue\n",
    "        \n",
    "        tokens = sent[0 : MAX_TOKENS_PER_SENTENCE]\n",
    "        sentence_str = ' '.join(token.text for token in tokens)\n",
    "        training_sentences.append(sentence_str)"
   ]
  },
  {
   "cell_type": "code",
   "execution_count": 22,
   "metadata": {},
   "outputs": [
    {
     "name": "stdout",
     "output_type": "stream",
     "text": [
      "Total training sentences : 1126346\n"
     ]
    }
   ],
   "source": [
    "print('Total training sentences : {}'.format(len(training_sentences)))"
   ]
  },
  {
   "cell_type": "code",
   "execution_count": 23,
   "metadata": {},
   "outputs": [
    {
     "name": "stdout",
     "output_type": "stream",
     "text": [
      "['* * ]              Sex :    F \\n\\n Service : SURGERY \\n\\n', 'Patient recorded as having No Known Allergies to Drugs \\n\\n Attending:[**First Name3 ( LF )', '* * ] \\n Chief Complaint : \\n', 'headache and neck stiffness \\n\\n Major Surgical or Invasive Procedure : \\n', 'The patient is \\n in distress , rigoring and has aphasia and only limited history \\n is obtained .']\n"
     ]
    }
   ],
   "source": [
    "print(training_sentences[:5])"
   ]
  },
  {
   "cell_type": "markdown",
   "metadata": {},
   "source": [
    "# Now let's try to train again"
   ]
  },
  {
   "cell_type": "code",
   "execution_count": 24,
   "metadata": {},
   "outputs": [],
   "source": [
    "# load sentences\n",
    "x, m = data_io.sentences2idx(training_sentences, words) # x is the array of word indices, m is the binary mask indicating whether there is a word in that location\n",
    "w = data_io.seq2weight(x, m, weight4ind) # get word weights"
   ]
  },
  {
   "cell_type": "code",
   "execution_count": 25,
   "metadata": {},
   "outputs": [
    {
     "name": "stdout",
     "output_type": "stream",
     "text": [
      "Wall time: 36 s\n"
     ]
    }
   ],
   "source": [
    "%%time\n",
    "\n",
    "# set parameters\n",
    "sif_params = params.params()\n",
    "sif_params.rmpc = rmpc\n",
    "# get SIF embedding\n",
    "embedding = SIF_embedding.SIF_embedding(We, x, w, sif_params) # embedding[i,:] is the embedding for sentence i"
   ]
  },
  {
   "cell_type": "code",
   "execution_count": 26,
   "metadata": {},
   "outputs": [
    {
     "name": "stdout",
     "output_type": "stream",
     "text": [
      "(1126346, 300)\n"
     ]
    }
   ],
   "source": [
    "print(embedding.shape)"
   ]
  },
  {
   "cell_type": "code",
   "execution_count": 27,
   "metadata": {},
   "outputs": [
    {
     "name": "stdout",
     "output_type": "stream",
     "text": [
      "[-1.76219580e-02  1.61995946e-02 -7.19719637e-02 -4.06783682e-03\n",
      "  5.23425440e-02 -9.11286660e-02  8.00928662e-02 -4.98964288e-02\n",
      "  7.54627182e-03 -2.33041924e-02 -1.91686445e-01 -1.87458424e-01\n",
      "  7.92256573e-03 -1.15552549e-01 -9.54133804e-02 -2.40817803e-02\n",
      " -9.30613580e-02  5.85403618e-02 -4.53826036e-02  1.04779905e-01\n",
      "  1.53054677e-02  3.70770784e-02 -5.04296015e-02 -5.27354980e-02\n",
      " -5.21344360e-02  1.55661385e-01  5.84484537e-02  5.44221380e-02\n",
      " -1.04250684e-01 -3.45987554e-02  2.05650576e-02  3.99680617e-02\n",
      "  9.44325013e-02 -7.12544733e-02  2.27614427e-01 -8.87598875e-02\n",
      " -8.60411401e-02 -1.26490241e-02 -8.22869311e-02  4.60043930e-02\n",
      "  5.40581098e-02  5.34578384e-02 -1.02580432e-01  1.73888276e-01\n",
      " -2.02854465e-01  2.29170101e-01 -2.26779076e-03  1.63016751e-01\n",
      " -5.47874516e-03  1.33322946e-01  5.06870408e-02 -2.01443644e-02\n",
      " -1.02761369e-01 -4.69683740e-02 -1.05394108e-01  6.49192622e-02\n",
      " -8.30736386e-02  6.59382513e-02 -4.66816308e-02  9.43523174e-03\n",
      "  2.58029216e-02  2.98281567e-03  3.48444776e-02 -9.18814218e-02\n",
      "  1.68305805e-01  1.98393814e-01 -1.05728042e-01 -5.81191292e-02\n",
      "  5.49240104e-02 -5.79648017e-02 -3.53244390e-02 -1.09316115e-01\n",
      " -1.01535506e-01 -1.59646215e-01  1.74056059e-01  1.10263630e-01\n",
      " -3.17192022e-01 -3.96040436e-02 -8.25444040e-03  1.48298799e-02\n",
      " -1.80415656e-01  1.01113661e-01  2.35488293e-02  8.07681691e-02\n",
      " -8.40237188e-02  6.05296992e-02 -1.24939686e-01 -1.06771215e-02\n",
      "  5.80510367e-02 -6.75550876e-02 -9.42756271e-02  2.55951470e-02\n",
      " -1.52231203e-01 -2.40128962e-01 -9.14362508e-03  2.42353450e-02\n",
      " -4.60380454e-02  7.59693109e-03  3.69081530e-03  6.39446839e-02\n",
      " -8.58952924e-02 -1.38127255e-02  2.09168173e-01 -1.32836879e-01\n",
      " -2.75336968e-02  7.43125464e-01 -6.32551181e-02 -5.42322784e-02\n",
      " -1.63831611e-01 -4.37628616e-02 -4.75490296e-04  6.17160741e-02\n",
      "  1.54246055e-02 -1.65634362e-03  1.00232227e-01  8.94462431e-02\n",
      "  1.29742240e-01  2.38299202e-02 -1.72103348e-01  1.12771637e-01\n",
      " -1.34596964e-02  1.63636173e-01  6.75024577e-02 -1.17381320e-01\n",
      " -7.06596940e-03 -6.45731884e-02  1.79051204e-01 -7.49556077e-03\n",
      " -5.28025389e-02 -1.39962038e-02  1.07892202e-01  1.51574266e-01\n",
      " -4.11517017e-02 -2.20701749e-02 -8.54124727e-02  1.42650623e-01\n",
      " -1.47109878e-01  3.17193987e-02 -4.92172442e-02  8.80852083e-02\n",
      " -1.13105868e-01 -4.14921856e-02  8.82686227e-02  5.18642289e-02\n",
      " -1.49981250e-01 -1.64049460e-01  5.63511372e-02  3.30163335e-02\n",
      " -8.63554011e-02 -2.20725668e-02 -8.43363253e-02  6.33479702e-02\n",
      " -1.86965557e-01 -2.86612833e-01  2.57579308e-01  3.26552335e-02\n",
      "  8.99726170e-02 -1.06132276e-01 -5.53478680e-02  2.52436868e-02\n",
      " -2.37173244e-04 -1.36468896e-01  3.63430923e-02 -2.36214319e-02\n",
      " -1.31528255e-01 -1.98234445e-01  1.50019300e-01 -5.08546856e-02\n",
      " -1.21581585e-01  7.42261421e-02 -1.64697922e-01 -3.09404736e-02\n",
      "  8.09180129e-02 -1.52817659e-01  7.92823252e-02  1.16394268e-01\n",
      "  1.10464568e-01  1.45284293e-02  9.65678348e-02  1.27380069e-01\n",
      " -6.79438468e-03 -4.37548199e-02 -4.24338288e-02 -9.40320746e-02\n",
      " -5.54995858e-02  6.68144827e-02 -1.10304701e-01 -6.52138373e-02\n",
      " -3.21142394e-03 -5.96686406e-02 -1.14044013e-01  7.41395223e-03\n",
      " -1.27414824e-01  6.98819912e-02 -1.81602663e-01  4.14222599e-03\n",
      "  5.70308195e-02  4.67503230e-02 -3.14554747e-02  6.94950105e-02\n",
      "  8.71539272e-02 -7.54371818e-02  2.31761149e-02 -1.17076846e-01\n",
      " -1.26935323e-01 -2.51343289e-02 -1.75343695e-01  4.67282904e-02\n",
      " -8.42926742e-02  7.03992787e-02 -2.11574525e-01 -1.07761471e-01\n",
      "  1.17482308e-01 -2.12176104e-02  1.93749482e-03 -7.42481212e-02\n",
      " -1.38125170e-01  4.77242749e-02 -1.09558802e-01 -3.73823702e-02\n",
      "  7.35281331e-02  9.84896715e-02  1.53061765e-02  1.33049050e-01\n",
      " -2.22223942e-01 -1.23234342e-03 -1.00236098e-01  4.50624122e-02\n",
      "  1.15431901e-01  8.01396908e-02  1.73654676e-02 -5.04001448e-02\n",
      " -4.36952927e-02 -1.07437237e-01 -1.49393421e-01  2.15567150e-01\n",
      "  7.71277718e-02  5.57358540e-02 -1.20538305e-01  6.58035226e-02\n",
      "  1.00084411e-01 -8.75397481e-02  1.15943686e-01 -1.54143977e-01\n",
      "  3.67306402e-02  2.13047544e-02 -2.25186198e-01  2.62278704e-03\n",
      "  3.29862664e-02  8.28338651e-02  4.09861963e-02 -7.86001089e-02\n",
      " -8.16563223e-02 -1.91272380e-01 -6.08887402e-02  2.89008354e-02\n",
      " -2.70620583e-02 -1.93196986e-02  1.06408334e-01  1.06249105e-01\n",
      " -6.37397758e-02  6.28982783e-02  6.46337400e-02 -1.08209133e-01\n",
      " -1.46167585e-02 -9.93847376e-02  8.22334820e-02  8.42723057e-02\n",
      "  7.80692762e-02 -1.13826310e-01 -3.93009870e-01 -9.11886457e-02\n",
      "  5.95895888e-02  9.59073679e-02  9.76586684e-02  1.15658675e-01\n",
      "  1.25639280e-01  3.60280262e-02  1.83091998e-01  1.12895701e-01\n",
      " -1.69124658e-01  9.08350753e-02  1.96378163e-01  1.68752063e-01\n",
      " -5.06603768e-03 -1.17344598e-01 -1.14303667e-01  1.30737413e-01\n",
      " -1.30360859e-01 -1.30011855e-01  1.05150932e-01 -4.35714471e-03\n",
      " -2.59738553e-01 -2.10463129e-02 -2.91123765e-02  4.00210844e-02\n",
      " -9.49892018e-02  3.67402228e-02 -2.97276673e-02  5.34286268e-02]\n"
     ]
    }
   ],
   "source": [
    "print(embedding[0,])"
   ]
  },
  {
   "cell_type": "code",
   "execution_count": 28,
   "metadata": {},
   "outputs": [],
   "source": [
    "class SIFModel(object):\n",
    "    def __init__(self):\n",
    "        self.trained = False\n",
    "        self.svd = None\n",
    "        self.word_map = None\n",
    "        self.params = params\n",
    "        \n",
    "    def save(self, filename):\n",
    "        components = [self.word_map, self.weight4ind, self.params, self.svd]\n",
    "        joblib.dump(components, filename)\n",
    "        \n",
    "    def load(self, filename):\n",
    "        components = joblib.load(filename)\n",
    "        self.trained = True\n",
    "        self.word_map = components[0]\n",
    "        self.weight4ind = components[1]\n",
    "        self.params = components[2]\n",
    "        self.svd = components[3]\n",
    "\n",
    "    def transform(self, We, sentences):\n",
    "        x, m = data_io.sentences2idx(sentences, self.word_map) # x is the array of word indices, m is the binary mask indicating whether there is a word in that location\n",
    "        w = data_io.seq2weight(x, m, self.weight4ind) # get word weights\n",
    "        weighted_emb = get_weighted_average(We, x, w)\n",
    "        # now use the model we've already loaded\n",
    "        return self.remove_pc(weighted_emb)\n",
    "        \n",
    "    def compute_pc(self, X):\n",
    "        # this is what happens in compute_pc() in src/SIF_embedding.py\n",
    "        self.svd = TruncatedSVD(n_components=self.params.rmpc, n_iter=7, random_state=0)\n",
    "        self.svd.fit(X)\n",
    "        \n",
    "    def remove_pc(self, X):\n",
    "        pc = self.svd.components_\n",
    "        \n",
    "        if self.params.rmpc == 1:\n",
    "            XX = X - X.dot(pc.transpose()) * pc\n",
    "        else:\n",
    "            XX = X - X.dot(pc.transpose()).dot(pc)\n",
    "            \n",
    "        return XX\n",
    "        \n",
    "    def fit(self, sentences, We, params, word_map, weight4ind):\n",
    "        \n",
    "        # store these off for pickling or extra transforms\n",
    "        self.word_map = word_map\n",
    "        self.weight4ind = weight4ind\n",
    "        self.params = params\n",
    "        \n",
    "        x, m = data_io.sentences2idx(training_sentences, self.word_map) # x is the array of word indices, m is the binary mask indicating whether there is a word in that location\n",
    "        w = data_io.seq2weight(x, m, self.weight4ind) # get word weights\n",
    "        \n",
    "        # now let's do some of what happens in src/SIF_embedding.py\n",
    "        # but also keep some pieces along the way\n",
    "        weighted_emb = get_weighted_average(We, x, w)\n",
    "        \n",
    "        self.compute_pc(weighted_emb)\n",
    "        \n",
    "        self.trained = True\n",
    "        \n",
    "        return self.remove_pc(weighted_emb)"
   ]
  },
  {
   "cell_type": "code",
   "execution_count": 29,
   "metadata": {},
   "outputs": [
    {
     "name": "stdout",
     "output_type": "stream",
     "text": [
      "Preparing to train a model to be stored at: SIF_glove.840B.300d.joblib\n"
     ]
    }
   ],
   "source": [
    "# SIF filename\n",
    "SIF_JOBLIB_FILE_NAME = 'SIF_{0}.joblib'.format(os.path.splitext(os.path.basename(wordfile))[0])\n",
    "\n",
    "print('Preparing to train a model to be stored at: {}'.format(SIF_JOBLIB_FILE_NAME))"
   ]
  },
  {
   "cell_type": "code",
   "execution_count": 30,
   "metadata": {},
   "outputs": [
    {
     "name": "stdout",
     "output_type": "stream",
     "text": [
      "[-1.76219580e-02  1.61995946e-02 -7.19719637e-02 -4.06783682e-03\n",
      "  5.23425440e-02 -9.11286660e-02  8.00928662e-02 -4.98964288e-02\n",
      "  7.54627182e-03 -2.33041924e-02 -1.91686445e-01 -1.87458424e-01\n",
      "  7.92256573e-03 -1.15552549e-01 -9.54133804e-02 -2.40817803e-02\n",
      " -9.30613580e-02  5.85403618e-02 -4.53826036e-02  1.04779905e-01\n",
      "  1.53054677e-02  3.70770784e-02 -5.04296015e-02 -5.27354980e-02\n",
      " -5.21344360e-02  1.55661385e-01  5.84484537e-02  5.44221380e-02\n",
      " -1.04250684e-01 -3.45987554e-02  2.05650576e-02  3.99680617e-02\n",
      "  9.44325013e-02 -7.12544733e-02  2.27614427e-01 -8.87598875e-02\n",
      " -8.60411401e-02 -1.26490241e-02 -8.22869311e-02  4.60043930e-02\n",
      "  5.40581098e-02  5.34578384e-02 -1.02580432e-01  1.73888276e-01\n",
      " -2.02854465e-01  2.29170101e-01 -2.26779076e-03  1.63016751e-01\n",
      " -5.47874516e-03  1.33322946e-01  5.06870408e-02 -2.01443644e-02\n",
      " -1.02761369e-01 -4.69683740e-02 -1.05394108e-01  6.49192622e-02\n",
      " -8.30736386e-02  6.59382513e-02 -4.66816308e-02  9.43523174e-03\n",
      "  2.58029216e-02  2.98281567e-03  3.48444776e-02 -9.18814218e-02\n",
      "  1.68305805e-01  1.98393814e-01 -1.05728042e-01 -5.81191292e-02\n",
      "  5.49240104e-02 -5.79648017e-02 -3.53244390e-02 -1.09316115e-01\n",
      " -1.01535506e-01 -1.59646215e-01  1.74056059e-01  1.10263630e-01\n",
      " -3.17192022e-01 -3.96040436e-02 -8.25444040e-03  1.48298799e-02\n",
      " -1.80415656e-01  1.01113661e-01  2.35488293e-02  8.07681691e-02\n",
      " -8.40237188e-02  6.05296992e-02 -1.24939686e-01 -1.06771215e-02\n",
      "  5.80510367e-02 -6.75550876e-02 -9.42756271e-02  2.55951470e-02\n",
      " -1.52231203e-01 -2.40128962e-01 -9.14362508e-03  2.42353450e-02\n",
      " -4.60380454e-02  7.59693109e-03  3.69081530e-03  6.39446839e-02\n",
      " -8.58952924e-02 -1.38127255e-02  2.09168173e-01 -1.32836879e-01\n",
      " -2.75336968e-02  7.43125464e-01 -6.32551181e-02 -5.42322784e-02\n",
      " -1.63831611e-01 -4.37628616e-02 -4.75490296e-04  6.17160741e-02\n",
      "  1.54246055e-02 -1.65634362e-03  1.00232227e-01  8.94462431e-02\n",
      "  1.29742240e-01  2.38299202e-02 -1.72103348e-01  1.12771637e-01\n",
      " -1.34596964e-02  1.63636173e-01  6.75024577e-02 -1.17381320e-01\n",
      " -7.06596940e-03 -6.45731884e-02  1.79051204e-01 -7.49556077e-03\n",
      " -5.28025389e-02 -1.39962038e-02  1.07892202e-01  1.51574266e-01\n",
      " -4.11517017e-02 -2.20701749e-02 -8.54124727e-02  1.42650623e-01\n",
      " -1.47109878e-01  3.17193987e-02 -4.92172442e-02  8.80852083e-02\n",
      " -1.13105868e-01 -4.14921856e-02  8.82686227e-02  5.18642289e-02\n",
      " -1.49981250e-01 -1.64049460e-01  5.63511372e-02  3.30163335e-02\n",
      " -8.63554011e-02 -2.20725668e-02 -8.43363253e-02  6.33479702e-02\n",
      " -1.86965557e-01 -2.86612833e-01  2.57579308e-01  3.26552335e-02\n",
      "  8.99726170e-02 -1.06132276e-01 -5.53478680e-02  2.52436868e-02\n",
      " -2.37173244e-04 -1.36468896e-01  3.63430923e-02 -2.36214319e-02\n",
      " -1.31528255e-01 -1.98234445e-01  1.50019300e-01 -5.08546856e-02\n",
      " -1.21581585e-01  7.42261421e-02 -1.64697922e-01 -3.09404736e-02\n",
      "  8.09180129e-02 -1.52817659e-01  7.92823252e-02  1.16394268e-01\n",
      "  1.10464568e-01  1.45284293e-02  9.65678348e-02  1.27380069e-01\n",
      " -6.79438468e-03 -4.37548199e-02 -4.24338288e-02 -9.40320746e-02\n",
      " -5.54995858e-02  6.68144827e-02 -1.10304701e-01 -6.52138373e-02\n",
      " -3.21142394e-03 -5.96686406e-02 -1.14044013e-01  7.41395223e-03\n",
      " -1.27414824e-01  6.98819912e-02 -1.81602663e-01  4.14222599e-03\n",
      "  5.70308195e-02  4.67503230e-02 -3.14554747e-02  6.94950105e-02\n",
      "  8.71539272e-02 -7.54371818e-02  2.31761149e-02 -1.17076846e-01\n",
      " -1.26935323e-01 -2.51343289e-02 -1.75343695e-01  4.67282904e-02\n",
      " -8.42926742e-02  7.03992787e-02 -2.11574525e-01 -1.07761471e-01\n",
      "  1.17482308e-01 -2.12176104e-02  1.93749482e-03 -7.42481212e-02\n",
      " -1.38125170e-01  4.77242749e-02 -1.09558802e-01 -3.73823702e-02\n",
      "  7.35281331e-02  9.84896715e-02  1.53061765e-02  1.33049050e-01\n",
      " -2.22223942e-01 -1.23234342e-03 -1.00236098e-01  4.50624122e-02\n",
      "  1.15431901e-01  8.01396908e-02  1.73654676e-02 -5.04001448e-02\n",
      " -4.36952927e-02 -1.07437237e-01 -1.49393421e-01  2.15567150e-01\n",
      "  7.71277718e-02  5.57358540e-02 -1.20538305e-01  6.58035226e-02\n",
      "  1.00084411e-01 -8.75397481e-02  1.15943686e-01 -1.54143977e-01\n",
      "  3.67306402e-02  2.13047544e-02 -2.25186198e-01  2.62278704e-03\n",
      "  3.29862664e-02  8.28338651e-02  4.09861963e-02 -7.86001089e-02\n",
      " -8.16563223e-02 -1.91272380e-01 -6.08887402e-02  2.89008354e-02\n",
      " -2.70620583e-02 -1.93196986e-02  1.06408334e-01  1.06249105e-01\n",
      " -6.37397758e-02  6.28982783e-02  6.46337400e-02 -1.08209133e-01\n",
      " -1.46167585e-02 -9.93847376e-02  8.22334820e-02  8.42723057e-02\n",
      "  7.80692762e-02 -1.13826310e-01 -3.93009870e-01 -9.11886457e-02\n",
      "  5.95895888e-02  9.59073679e-02  9.76586684e-02  1.15658675e-01\n",
      "  1.25639280e-01  3.60280262e-02  1.83091998e-01  1.12895701e-01\n",
      " -1.69124658e-01  9.08350753e-02  1.96378163e-01  1.68752063e-01\n",
      " -5.06603768e-03 -1.17344598e-01 -1.14303667e-01  1.30737413e-01\n",
      " -1.30360859e-01 -1.30011855e-01  1.05150932e-01 -4.35714471e-03\n",
      " -2.59738553e-01 -2.10463129e-02 -2.91123765e-02  4.00210844e-02\n",
      " -9.49892018e-02  3.67402228e-02 -2.97276673e-02  5.34286268e-02]\n"
     ]
    }
   ],
   "source": [
    "sif_model = SIFModel()\n",
    "\n",
    "# now let's train it...\n",
    "model_embeddings = sif_model.fit(training_sentences, We, sif_params, words, weight4ind)\n",
    "print(model_embeddings[0,])"
   ]
  },
  {
   "cell_type": "code",
   "execution_count": 31,
   "metadata": {},
   "outputs": [],
   "source": [
    "sif_model.save(SIF_JOBLIB_FILE_NAME)"
   ]
  },
  {
   "cell_type": "code",
   "execution_count": 32,
   "metadata": {},
   "outputs": [],
   "source": [
    "loaded_sif_model = SIFModel()\n",
    "loaded_sif_model.load(SIF_JOBLIB_FILE_NAME)"
   ]
  },
  {
   "cell_type": "code",
   "execution_count": 33,
   "metadata": {},
   "outputs": [
    {
     "name": "stdout",
     "output_type": "stream",
     "text": [
      "[[-1.76219580e-02  1.61995946e-02 -7.19719637e-02 -4.06783682e-03\n",
      "   5.23425440e-02 -9.11286660e-02  8.00928662e-02 -4.98964288e-02\n",
      "   7.54627182e-03 -2.33041924e-02 -1.91686445e-01 -1.87458424e-01\n",
      "   7.92256573e-03 -1.15552549e-01 -9.54133804e-02 -2.40817803e-02\n",
      "  -9.30613580e-02  5.85403618e-02 -4.53826036e-02  1.04779905e-01\n",
      "   1.53054677e-02  3.70770784e-02 -5.04296015e-02 -5.27354980e-02\n",
      "  -5.21344360e-02  1.55661385e-01  5.84484537e-02  5.44221380e-02\n",
      "  -1.04250684e-01 -3.45987554e-02  2.05650576e-02  3.99680617e-02\n",
      "   9.44325013e-02 -7.12544733e-02  2.27614427e-01 -8.87598875e-02\n",
      "  -8.60411401e-02 -1.26490241e-02 -8.22869311e-02  4.60043930e-02\n",
      "   5.40581098e-02  5.34578384e-02 -1.02580432e-01  1.73888276e-01\n",
      "  -2.02854465e-01  2.29170101e-01 -2.26779076e-03  1.63016751e-01\n",
      "  -5.47874516e-03  1.33322946e-01  5.06870408e-02 -2.01443644e-02\n",
      "  -1.02761369e-01 -4.69683740e-02 -1.05394108e-01  6.49192622e-02\n",
      "  -8.30736386e-02  6.59382513e-02 -4.66816308e-02  9.43523174e-03\n",
      "   2.58029216e-02  2.98281567e-03  3.48444776e-02 -9.18814218e-02\n",
      "   1.68305805e-01  1.98393814e-01 -1.05728042e-01 -5.81191292e-02\n",
      "   5.49240104e-02 -5.79648017e-02 -3.53244390e-02 -1.09316115e-01\n",
      "  -1.01535506e-01 -1.59646215e-01  1.74056059e-01  1.10263630e-01\n",
      "  -3.17192022e-01 -3.96040436e-02 -8.25444040e-03  1.48298799e-02\n",
      "  -1.80415656e-01  1.01113661e-01  2.35488293e-02  8.07681691e-02\n",
      "  -8.40237188e-02  6.05296992e-02 -1.24939686e-01 -1.06771215e-02\n",
      "   5.80510367e-02 -6.75550876e-02 -9.42756271e-02  2.55951470e-02\n",
      "  -1.52231203e-01 -2.40128962e-01 -9.14362508e-03  2.42353450e-02\n",
      "  -4.60380454e-02  7.59693109e-03  3.69081530e-03  6.39446839e-02\n",
      "  -8.58952924e-02 -1.38127255e-02  2.09168173e-01 -1.32836879e-01\n",
      "  -2.75336968e-02  7.43125464e-01 -6.32551181e-02 -5.42322784e-02\n",
      "  -1.63831611e-01 -4.37628616e-02 -4.75490296e-04  6.17160741e-02\n",
      "   1.54246055e-02 -1.65634362e-03  1.00232227e-01  8.94462431e-02\n",
      "   1.29742240e-01  2.38299202e-02 -1.72103348e-01  1.12771637e-01\n",
      "  -1.34596964e-02  1.63636173e-01  6.75024577e-02 -1.17381320e-01\n",
      "  -7.06596940e-03 -6.45731884e-02  1.79051204e-01 -7.49556077e-03\n",
      "  -5.28025389e-02 -1.39962038e-02  1.07892202e-01  1.51574266e-01\n",
      "  -4.11517017e-02 -2.20701749e-02 -8.54124727e-02  1.42650623e-01\n",
      "  -1.47109878e-01  3.17193987e-02 -4.92172442e-02  8.80852083e-02\n",
      "  -1.13105868e-01 -4.14921856e-02  8.82686227e-02  5.18642289e-02\n",
      "  -1.49981250e-01 -1.64049460e-01  5.63511372e-02  3.30163335e-02\n",
      "  -8.63554011e-02 -2.20725668e-02 -8.43363253e-02  6.33479702e-02\n",
      "  -1.86965557e-01 -2.86612833e-01  2.57579308e-01  3.26552335e-02\n",
      "   8.99726170e-02 -1.06132276e-01 -5.53478680e-02  2.52436868e-02\n",
      "  -2.37173244e-04 -1.36468896e-01  3.63430923e-02 -2.36214319e-02\n",
      "  -1.31528255e-01 -1.98234445e-01  1.50019300e-01 -5.08546856e-02\n",
      "  -1.21581585e-01  7.42261421e-02 -1.64697922e-01 -3.09404736e-02\n",
      "   8.09180129e-02 -1.52817659e-01  7.92823252e-02  1.16394268e-01\n",
      "   1.10464568e-01  1.45284293e-02  9.65678348e-02  1.27380069e-01\n",
      "  -6.79438468e-03 -4.37548199e-02 -4.24338288e-02 -9.40320746e-02\n",
      "  -5.54995858e-02  6.68144827e-02 -1.10304701e-01 -6.52138373e-02\n",
      "  -3.21142394e-03 -5.96686406e-02 -1.14044013e-01  7.41395223e-03\n",
      "  -1.27414824e-01  6.98819912e-02 -1.81602663e-01  4.14222599e-03\n",
      "   5.70308195e-02  4.67503230e-02 -3.14554747e-02  6.94950105e-02\n",
      "   8.71539272e-02 -7.54371818e-02  2.31761149e-02 -1.17076846e-01\n",
      "  -1.26935323e-01 -2.51343289e-02 -1.75343695e-01  4.67282904e-02\n",
      "  -8.42926742e-02  7.03992787e-02 -2.11574525e-01 -1.07761471e-01\n",
      "   1.17482308e-01 -2.12176104e-02  1.93749482e-03 -7.42481212e-02\n",
      "  -1.38125170e-01  4.77242749e-02 -1.09558802e-01 -3.73823702e-02\n",
      "   7.35281331e-02  9.84896715e-02  1.53061765e-02  1.33049050e-01\n",
      "  -2.22223942e-01 -1.23234342e-03 -1.00236098e-01  4.50624122e-02\n",
      "   1.15431901e-01  8.01396908e-02  1.73654676e-02 -5.04001448e-02\n",
      "  -4.36952927e-02 -1.07437237e-01 -1.49393421e-01  2.15567150e-01\n",
      "   7.71277718e-02  5.57358540e-02 -1.20538305e-01  6.58035226e-02\n",
      "   1.00084411e-01 -8.75397481e-02  1.15943686e-01 -1.54143977e-01\n",
      "   3.67306402e-02  2.13047544e-02 -2.25186198e-01  2.62278704e-03\n",
      "   3.29862664e-02  8.28338651e-02  4.09861963e-02 -7.86001089e-02\n",
      "  -8.16563223e-02 -1.91272380e-01 -6.08887402e-02  2.89008354e-02\n",
      "  -2.70620583e-02 -1.93196986e-02  1.06408334e-01  1.06249105e-01\n",
      "  -6.37397758e-02  6.28982783e-02  6.46337400e-02 -1.08209133e-01\n",
      "  -1.46167585e-02 -9.93847376e-02  8.22334820e-02  8.42723057e-02\n",
      "   7.80692762e-02 -1.13826310e-01 -3.93009870e-01 -9.11886457e-02\n",
      "   5.95895888e-02  9.59073679e-02  9.76586684e-02  1.15658675e-01\n",
      "   1.25639280e-01  3.60280262e-02  1.83091998e-01  1.12895701e-01\n",
      "  -1.69124658e-01  9.08350753e-02  1.96378163e-01  1.68752063e-01\n",
      "  -5.06603768e-03 -1.17344598e-01 -1.14303667e-01  1.30737413e-01\n",
      "  -1.30360859e-01 -1.30011855e-01  1.05150932e-01 -4.35714471e-03\n",
      "  -2.59738553e-01 -2.10463129e-02 -2.91123765e-02  4.00210844e-02\n",
      "  -9.49892018e-02  3.67402228e-02 -2.97276673e-02  5.34286268e-02]]\n"
     ]
    }
   ],
   "source": [
    "loaded_embeddings = loaded_sif_model.transform(We, [training_sentences[0]])\n",
    "print(loaded_embeddings)"
   ]
  }
 ],
 "metadata": {
  "kernelspec": {
   "display_name": "Python [conda env:n2c2] *",
   "language": "python",
   "name": "conda-env-n2c2-py"
  },
  "language_info": {
   "codemirror_mode": {
    "name": "ipython",
    "version": 3
   },
   "file_extension": ".py",
   "mimetype": "text/x-python",
   "name": "python",
   "nbconvert_exporter": "python",
   "pygments_lexer": "ipython3",
   "version": "3.6.8"
  }
 },
 "nbformat": 4,
 "nbformat_minor": 2
}
